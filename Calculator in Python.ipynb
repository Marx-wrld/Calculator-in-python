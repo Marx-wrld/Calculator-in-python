{
 "cells": [
  {
   "cell_type": "code",
   "execution_count": 3,
   "id": "c068e957",
   "metadata": {},
   "outputs": [
    {
     "name": "stdout",
     "output_type": "stream",
     "text": [
      "Enter First Operand(Any Numeric value)\n",
      "78\n",
      "Enter Operator(+,-,*,/)\n",
      "/\n",
      "Enter Second Operand(Any Numeric value)\n",
      "90\n",
      "Answer =  0.8666666666666667\n"
     ]
    }
   ],
   "source": [
    "#prompt the user to enter any number\n",
    "FirstOperand = input(\"Enter First Operand(Any Numeric value)\\n\")\n",
    "#convert entered value to int\n",
    "FirstOperand = int(FirstOperand)\n",
    "#prompt the user to enter any operator\n",
    "Operator = input(\"Enter Operator(+,-,*,/)\\n\")\n",
    "#prompt the user to enter any number\n",
    "SecondOperand = input(\"Enter Second Operand(Any Numeric value)\\n\")\n",
    "SecondOperand = int(SecondOperand)\n",
    "#calculate answer base on entered operator\n",
    "if(Operator==\"+\"):\n",
    "   Answer = FirstOperand + SecondOperand\n",
    "if(Operator==\"-\"):\n",
    "   Answer = FirstOperand - SecondOperand\n",
    "if(Operator==\"*\"):\n",
    "   Answer = FirstOperand * SecondOperand\n",
    "if(Operator==\"/\"):\n",
    "   Answer = FirstOperand / SecondOperand\n",
    "if(Operator==\"%\"):\n",
    "   Answer = FirstOperand % SecondOperand\n",
    "if(Operator==\"//\"):\n",
    "   Answer = FirstOperand // SecondOperand\n",
    "if(Operator==\"**\"):\n",
    "   Answer = FirstOperand ** SecondOperand\n",
    "print(\"Answer = \", Answer)"
   ]
  },
  {
   "cell_type": "code",
   "execution_count": null,
   "id": "da21f9af",
   "metadata": {},
   "outputs": [],
   "source": []
  }
 ],
 "metadata": {
  "kernelspec": {
   "display_name": "Python 3 (ipykernel)",
   "language": "python",
   "name": "python3"
  },
  "language_info": {
   "codemirror_mode": {
    "name": "ipython",
    "version": 3
   },
   "file_extension": ".py",
   "mimetype": "text/x-python",
   "name": "python",
   "nbconvert_exporter": "python",
   "pygments_lexer": "ipython3",
   "version": "3.9.7"
  }
 },
 "nbformat": 4,
 "nbformat_minor": 5
}
